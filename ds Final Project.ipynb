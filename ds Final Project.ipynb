{
 "cells": [
  {
   "cell_type": "markdown",
   "id": "dfbc06bc",
   "metadata": {},
   "source": [
    "# Importing the libraries"
   ]
  },
  {
   "cell_type": "code",
   "execution_count": 1,
   "id": "0a7712b6",
   "metadata": {},
   "outputs": [],
   "source": [
    "import numpy as np\n",
    "import matplotlib.pyplot as plt\n",
    "import pandas as pd\n",
    "import seaborn as sns"
   ]
  },
  {
   "cell_type": "markdown",
   "id": "14280c25",
   "metadata": {},
   "source": [
    "# Importing the dataset"
   ]
  },
  {
   "cell_type": "code",
   "execution_count": 2,
   "id": "52862906",
   "metadata": {},
   "outputs": [
    {
     "data": {
      "text/html": [
       "<div>\n",
       "<style scoped>\n",
       "    .dataframe tbody tr th:only-of-type {\n",
       "        vertical-align: middle;\n",
       "    }\n",
       "\n",
       "    .dataframe tbody tr th {\n",
       "        vertical-align: top;\n",
       "    }\n",
       "\n",
       "    .dataframe thead th {\n",
       "        text-align: right;\n",
       "    }\n",
       "</style>\n",
       "<table border=\"1\" class=\"dataframe\">\n",
       "  <thead>\n",
       "    <tr style=\"text-align: right;\">\n",
       "      <th></th>\n",
       "      <th>FIPS Code</th>\n",
       "      <th>State/Area</th>\n",
       "      <th>Year</th>\n",
       "      <th>Month</th>\n",
       "      <th>Total Civilian Non-Institutional Population in State/Area</th>\n",
       "      <th>Total Civilian Labor Force in State/Area</th>\n",
       "      <th>Percent (%) of State/Area's Population</th>\n",
       "      <th>Total Employment in State/Area</th>\n",
       "      <th>Percent (%) of Labor Force Employed in State/Area</th>\n",
       "      <th>Total Unemployment in State/Area</th>\n",
       "      <th>Percent (%) of Labor Force Unemployed in State/Area</th>\n",
       "    </tr>\n",
       "  </thead>\n",
       "  <tbody>\n",
       "    <tr>\n",
       "      <th>0</th>\n",
       "      <td>1</td>\n",
       "      <td>Alabama</td>\n",
       "      <td>1976</td>\n",
       "      <td>1</td>\n",
       "      <td>2,605,000</td>\n",
       "      <td>1,484,555</td>\n",
       "      <td>57.0</td>\n",
       "      <td>1,386,023</td>\n",
       "      <td>53.2</td>\n",
       "      <td>98,532</td>\n",
       "      <td>6.6</td>\n",
       "    </tr>\n",
       "    <tr>\n",
       "      <th>1</th>\n",
       "      <td>2</td>\n",
       "      <td>Alaska</td>\n",
       "      <td>1976</td>\n",
       "      <td>1</td>\n",
       "      <td>232,000</td>\n",
       "      <td>160,183</td>\n",
       "      <td>69.0</td>\n",
       "      <td>148,820</td>\n",
       "      <td>64.1</td>\n",
       "      <td>11,363</td>\n",
       "      <td>7.1</td>\n",
       "    </tr>\n",
       "    <tr>\n",
       "      <th>2</th>\n",
       "      <td>4</td>\n",
       "      <td>Arizona</td>\n",
       "      <td>1976</td>\n",
       "      <td>1</td>\n",
       "      <td>1,621,000</td>\n",
       "      <td>964,120</td>\n",
       "      <td>59.5</td>\n",
       "      <td>865,871</td>\n",
       "      <td>53.4</td>\n",
       "      <td>98,249</td>\n",
       "      <td>10.2</td>\n",
       "    </tr>\n",
       "    <tr>\n",
       "      <th>3</th>\n",
       "      <td>5</td>\n",
       "      <td>Arkansas</td>\n",
       "      <td>1976</td>\n",
       "      <td>1</td>\n",
       "      <td>1,536,000</td>\n",
       "      <td>889,044</td>\n",
       "      <td>57.9</td>\n",
       "      <td>824,395</td>\n",
       "      <td>53.7</td>\n",
       "      <td>64,649</td>\n",
       "      <td>7.3</td>\n",
       "    </tr>\n",
       "    <tr>\n",
       "      <th>4</th>\n",
       "      <td>6</td>\n",
       "      <td>California</td>\n",
       "      <td>1976</td>\n",
       "      <td>1</td>\n",
       "      <td>15,621,000</td>\n",
       "      <td>9,774,280</td>\n",
       "      <td>62.6</td>\n",
       "      <td>8,875,685</td>\n",
       "      <td>56.8</td>\n",
       "      <td>898,595</td>\n",
       "      <td>9.2</td>\n",
       "    </tr>\n",
       "  </tbody>\n",
       "</table>\n",
       "</div>"
      ],
      "text/plain": [
       "   FIPS Code  State/Area  Year  Month  \\\n",
       "0          1     Alabama  1976      1   \n",
       "1          2      Alaska  1976      1   \n",
       "2          4     Arizona  1976      1   \n",
       "3          5    Arkansas  1976      1   \n",
       "4          6  California  1976      1   \n",
       "\n",
       "  Total Civilian Non-Institutional Population in State/Area  \\\n",
       "0                                       2,605,000             \n",
       "1                                         232,000             \n",
       "2                                       1,621,000             \n",
       "3                                       1,536,000             \n",
       "4                                      15,621,000             \n",
       "\n",
       "  Total Civilian Labor Force in State/Area  \\\n",
       "0                             1,484,555      \n",
       "1                               160,183      \n",
       "2                               964,120      \n",
       "3                               889,044      \n",
       "4                             9,774,280      \n",
       "\n",
       "   Percent (%) of State/Area's Population Total Employment in State/Area  \\\n",
       "0                                    57.0                   1,386,023      \n",
       "1                                    69.0                     148,820      \n",
       "2                                    59.5                     865,871      \n",
       "3                                    57.9                     824,395      \n",
       "4                                    62.6                   8,875,685      \n",
       "\n",
       "   Percent (%) of Labor Force Employed in State/Area  \\\n",
       "0                                               53.2   \n",
       "1                                               64.1   \n",
       "2                                               53.4   \n",
       "3                                               53.7   \n",
       "4                                               56.8   \n",
       "\n",
       "  Total Unemployment in State/Area  \\\n",
       "0                        98,532      \n",
       "1                        11,363      \n",
       "2                        98,249      \n",
       "3                        64,649      \n",
       "4                       898,595      \n",
       "\n",
       "   Percent (%) of Labor Force Unemployed in State/Area  \n",
       "0                                                6.6    \n",
       "1                                                7.1    \n",
       "2                                               10.2    \n",
       "3                                                7.3    \n",
       "4                                                9.2    "
      ]
     },
     "execution_count": 2,
     "metadata": {},
     "output_type": "execute_result"
    }
   ],
   "source": [
    "dataset=pd.read_csv(\"Unemployment in America Per US State.csv\")\n",
    "dataset.head()"
   ]
  },
  {
   "cell_type": "code",
   "execution_count": 3,
   "id": "bed55bae",
   "metadata": {},
   "outputs": [
    {
     "name": "stdout",
     "output_type": "stream",
     "text": [
      "<class 'pandas.core.frame.DataFrame'>\n",
      "RangeIndex: 29892 entries, 0 to 29891\n",
      "Data columns (total 11 columns):\n",
      " #   Column                                                     Non-Null Count  Dtype  \n",
      "---  ------                                                     --------------  -----  \n",
      " 0   FIPS Code                                                  29892 non-null  int64  \n",
      " 1   State/Area                                                 29892 non-null  object \n",
      " 2   Year                                                       29892 non-null  int64  \n",
      " 3   Month                                                      29892 non-null  int64  \n",
      " 4   Total Civilian Non-Institutional Population in State/Area  29892 non-null  object \n",
      " 5   Total Civilian Labor Force in State/Area                   29892 non-null  object \n",
      " 6   Percent (%) of State/Area's Population                     29892 non-null  float64\n",
      " 7   Total Employment in State/Area                             29892 non-null  object \n",
      " 8   Percent (%) of Labor Force Employed in State/Area          29892 non-null  float64\n",
      " 9   Total Unemployment in State/Area                           29892 non-null  object \n",
      " 10  Percent (%) of Labor Force Unemployed in State/Area        29892 non-null  float64\n",
      "dtypes: float64(3), int64(3), object(5)\n",
      "memory usage: 2.5+ MB\n"
     ]
    }
   ],
   "source": [
    "dataset.info()"
   ]
  },
  {
   "cell_type": "markdown",
   "id": "134328b1",
   "metadata": {},
   "source": [
    "# Finding any missing data"
   ]
  },
  {
   "cell_type": "code",
   "execution_count": 4,
   "id": "18bb5332",
   "metadata": {},
   "outputs": [
    {
     "data": {
      "text/plain": [
       "FIPS Code                                                    0\n",
       "State/Area                                                   0\n",
       "Year                                                         0\n",
       "Month                                                        0\n",
       "Total Civilian Non-Institutional Population in State/Area    0\n",
       "Total Civilian Labor Force in State/Area                     0\n",
       "Percent (%) of State/Area's Population                       0\n",
       "Total Employment in State/Area                               0\n",
       "Percent (%) of Labor Force Employed in State/Area            0\n",
       "Total Unemployment in State/Area                             0\n",
       "Percent (%) of Labor Force Unemployed in State/Area          0\n",
       "dtype: int64"
      ]
     },
     "execution_count": 4,
     "metadata": {},
     "output_type": "execute_result"
    }
   ],
   "source": [
    "dataset.isnull().sum()"
   ]
  },
  {
   "cell_type": "code",
   "execution_count": 5,
   "id": "18944342",
   "metadata": {},
   "outputs": [],
   "source": [
    "## there are no missing values present"
   ]
  },
  {
   "cell_type": "markdown",
   "id": "6ee53bfa",
   "metadata": {},
   "source": [
    "# Splitting the data into independent & dependent variable"
   ]
  },
  {
   "cell_type": "code",
   "execution_count": 6,
   "id": "d8481468",
   "metadata": {},
   "outputs": [
    {
     "data": {
      "text/plain": [
       "Index(['FIPS Code', 'State/Area', 'Year', 'Month',\n",
       "       'Total Civilian Non-Institutional Population in State/Area',\n",
       "       'Total Civilian Labor Force in State/Area',\n",
       "       'Percent (%) of State/Area's Population',\n",
       "       'Total Employment in State/Area',\n",
       "       'Percent (%) of Labor Force Employed in State/Area',\n",
       "       'Total Unemployment in State/Area',\n",
       "       'Percent (%) of Labor Force Unemployed in State/Area'],\n",
       "      dtype='object')"
      ]
     },
     "execution_count": 6,
     "metadata": {},
     "output_type": "execute_result"
    }
   ],
   "source": [
    "dataset.columns"
   ]
  },
  {
   "cell_type": "code",
   "execution_count": 7,
   "id": "23a00c0e",
   "metadata": {},
   "outputs": [],
   "source": [
    "X=dataset[['FIPS Code', 'State/Area', 'Year', 'Month',\n",
    "       'Total Civilian Non-Institutional Population in State/Area',\n",
    "       'Total Civilian Labor Force in State/Area',\n",
    "       \"Percent (%) of State/Area's Population\",\n",
    "       'Total Employment in State/Area',\n",
    "       'Percent (%) of Labor Force Employed in State/Area',\n",
    "       'Total Unemployment in State/Area']]\n",
    "\n",
    "y=dataset[['Percent (%) of Labor Force Unemployed in State/Area']]"
   ]
  },
  {
   "cell_type": "markdown",
   "id": "b60336c6",
   "metadata": {},
   "source": [
    "# Handling Categorical Variables"
   ]
  },
  {
   "cell_type": "code",
   "execution_count": 8,
   "id": "171dba69",
   "metadata": {},
   "outputs": [],
   "source": [
    "X=pd.get_dummies(dataset[['FIPS Code', 'State/Area', 'Year', 'Month',\n",
    "       'Total Civilian Non-Institutional Population in State/Area',\n",
    "       'Total Civilian Labor Force in State/Area',\n",
    "       \"Percent (%) of State/Area's Population\",\n",
    "       'Total Employment in State/Area',\n",
    "       'Percent (%) of Labor Force Employed in State/Area',\n",
    "       'Total Unemployment in State/Area']],\n",
    "                 drop_first=True)"
   ]
  },
  {
   "cell_type": "code",
   "execution_count": 9,
   "id": "675f94d7",
   "metadata": {},
   "outputs": [
    {
     "name": "stdout",
     "output_type": "stream",
     "text": [
      "<class 'pandas.core.frame.DataFrame'>\n",
      "RangeIndex: 29892 entries, 0 to 29891\n",
      "Columns: 113648 entries, FIPS Code to Total Unemployment in State/Area_999,100   \n",
      "dtypes: float64(2), int64(3), uint8(113643)\n",
      "memory usage: 3.2 GB\n"
     ]
    }
   ],
   "source": [
    "X.info()"
   ]
  },
  {
   "cell_type": "code",
   "execution_count": 10,
   "id": "5944fe99",
   "metadata": {},
   "outputs": [
    {
     "data": {
      "text/html": [
       "<div>\n",
       "<style scoped>\n",
       "    .dataframe tbody tr th:only-of-type {\n",
       "        vertical-align: middle;\n",
       "    }\n",
       "\n",
       "    .dataframe tbody tr th {\n",
       "        vertical-align: top;\n",
       "    }\n",
       "\n",
       "    .dataframe thead th {\n",
       "        text-align: right;\n",
       "    }\n",
       "</style>\n",
       "<table border=\"1\" class=\"dataframe\">\n",
       "  <thead>\n",
       "    <tr style=\"text-align: right;\">\n",
       "      <th></th>\n",
       "      <th>FIPS Code</th>\n",
       "      <th>Year</th>\n",
       "      <th>Month</th>\n",
       "      <th>Percent (%) of State/Area's Population</th>\n",
       "      <th>Percent (%) of Labor Force Employed in State/Area</th>\n",
       "      <th>State/Area_Alaska</th>\n",
       "      <th>State/Area_Arizona</th>\n",
       "      <th>State/Area_Arkansas</th>\n",
       "      <th>State/Area_California</th>\n",
       "      <th>State/Area_Colorado</th>\n",
       "      <th>...</th>\n",
       "      <th>Total Unemployment in State/Area_995,999</th>\n",
       "      <th>Total Unemployment in State/Area_996,186</th>\n",
       "      <th>Total Unemployment in State/Area_996,417</th>\n",
       "      <th>Total Unemployment in State/Area_996,969</th>\n",
       "      <th>Total Unemployment in State/Area_997,360</th>\n",
       "      <th>Total Unemployment in State/Area_997,587</th>\n",
       "      <th>Total Unemployment in State/Area_997,603</th>\n",
       "      <th>Total Unemployment in State/Area_998,504</th>\n",
       "      <th>Total Unemployment in State/Area_998,844</th>\n",
       "      <th>Total Unemployment in State/Area_999,100</th>\n",
       "    </tr>\n",
       "  </thead>\n",
       "  <tbody>\n",
       "    <tr>\n",
       "      <th>0</th>\n",
       "      <td>1</td>\n",
       "      <td>1976</td>\n",
       "      <td>1</td>\n",
       "      <td>57.0</td>\n",
       "      <td>53.2</td>\n",
       "      <td>0</td>\n",
       "      <td>0</td>\n",
       "      <td>0</td>\n",
       "      <td>0</td>\n",
       "      <td>0</td>\n",
       "      <td>...</td>\n",
       "      <td>0</td>\n",
       "      <td>0</td>\n",
       "      <td>0</td>\n",
       "      <td>0</td>\n",
       "      <td>0</td>\n",
       "      <td>0</td>\n",
       "      <td>0</td>\n",
       "      <td>0</td>\n",
       "      <td>0</td>\n",
       "      <td>0</td>\n",
       "    </tr>\n",
       "    <tr>\n",
       "      <th>1</th>\n",
       "      <td>2</td>\n",
       "      <td>1976</td>\n",
       "      <td>1</td>\n",
       "      <td>69.0</td>\n",
       "      <td>64.1</td>\n",
       "      <td>1</td>\n",
       "      <td>0</td>\n",
       "      <td>0</td>\n",
       "      <td>0</td>\n",
       "      <td>0</td>\n",
       "      <td>...</td>\n",
       "      <td>0</td>\n",
       "      <td>0</td>\n",
       "      <td>0</td>\n",
       "      <td>0</td>\n",
       "      <td>0</td>\n",
       "      <td>0</td>\n",
       "      <td>0</td>\n",
       "      <td>0</td>\n",
       "      <td>0</td>\n",
       "      <td>0</td>\n",
       "    </tr>\n",
       "    <tr>\n",
       "      <th>2</th>\n",
       "      <td>4</td>\n",
       "      <td>1976</td>\n",
       "      <td>1</td>\n",
       "      <td>59.5</td>\n",
       "      <td>53.4</td>\n",
       "      <td>0</td>\n",
       "      <td>1</td>\n",
       "      <td>0</td>\n",
       "      <td>0</td>\n",
       "      <td>0</td>\n",
       "      <td>...</td>\n",
       "      <td>0</td>\n",
       "      <td>0</td>\n",
       "      <td>0</td>\n",
       "      <td>0</td>\n",
       "      <td>0</td>\n",
       "      <td>0</td>\n",
       "      <td>0</td>\n",
       "      <td>0</td>\n",
       "      <td>0</td>\n",
       "      <td>0</td>\n",
       "    </tr>\n",
       "    <tr>\n",
       "      <th>3</th>\n",
       "      <td>5</td>\n",
       "      <td>1976</td>\n",
       "      <td>1</td>\n",
       "      <td>57.9</td>\n",
       "      <td>53.7</td>\n",
       "      <td>0</td>\n",
       "      <td>0</td>\n",
       "      <td>1</td>\n",
       "      <td>0</td>\n",
       "      <td>0</td>\n",
       "      <td>...</td>\n",
       "      <td>0</td>\n",
       "      <td>0</td>\n",
       "      <td>0</td>\n",
       "      <td>0</td>\n",
       "      <td>0</td>\n",
       "      <td>0</td>\n",
       "      <td>0</td>\n",
       "      <td>0</td>\n",
       "      <td>0</td>\n",
       "      <td>0</td>\n",
       "    </tr>\n",
       "    <tr>\n",
       "      <th>4</th>\n",
       "      <td>6</td>\n",
       "      <td>1976</td>\n",
       "      <td>1</td>\n",
       "      <td>62.6</td>\n",
       "      <td>56.8</td>\n",
       "      <td>0</td>\n",
       "      <td>0</td>\n",
       "      <td>0</td>\n",
       "      <td>1</td>\n",
       "      <td>0</td>\n",
       "      <td>...</td>\n",
       "      <td>0</td>\n",
       "      <td>0</td>\n",
       "      <td>0</td>\n",
       "      <td>0</td>\n",
       "      <td>0</td>\n",
       "      <td>0</td>\n",
       "      <td>0</td>\n",
       "      <td>0</td>\n",
       "      <td>0</td>\n",
       "      <td>0</td>\n",
       "    </tr>\n",
       "  </tbody>\n",
       "</table>\n",
       "<p>5 rows × 113648 columns</p>\n",
       "</div>"
      ],
      "text/plain": [
       "   FIPS Code  Year  Month  Percent (%) of State/Area's Population  \\\n",
       "0          1  1976      1                                    57.0   \n",
       "1          2  1976      1                                    69.0   \n",
       "2          4  1976      1                                    59.5   \n",
       "3          5  1976      1                                    57.9   \n",
       "4          6  1976      1                                    62.6   \n",
       "\n",
       "   Percent (%) of Labor Force Employed in State/Area  State/Area_Alaska  \\\n",
       "0                                               53.2                  0   \n",
       "1                                               64.1                  1   \n",
       "2                                               53.4                  0   \n",
       "3                                               53.7                  0   \n",
       "4                                               56.8                  0   \n",
       "\n",
       "   State/Area_Arizona  State/Area_Arkansas  State/Area_California  \\\n",
       "0                   0                    0                      0   \n",
       "1                   0                    0                      0   \n",
       "2                   1                    0                      0   \n",
       "3                   0                    1                      0   \n",
       "4                   0                    0                      1   \n",
       "\n",
       "   State/Area_Colorado  ...  Total Unemployment in State/Area_995,999     \\\n",
       "0                    0  ...                                            0   \n",
       "1                    0  ...                                            0   \n",
       "2                    0  ...                                            0   \n",
       "3                    0  ...                                            0   \n",
       "4                    0  ...                                            0   \n",
       "\n",
       "   Total Unemployment in State/Area_996,186     \\\n",
       "0                                            0   \n",
       "1                                            0   \n",
       "2                                            0   \n",
       "3                                            0   \n",
       "4                                            0   \n",
       "\n",
       "   Total Unemployment in State/Area_996,417     \\\n",
       "0                                            0   \n",
       "1                                            0   \n",
       "2                                            0   \n",
       "3                                            0   \n",
       "4                                            0   \n",
       "\n",
       "   Total Unemployment in State/Area_996,969     \\\n",
       "0                                            0   \n",
       "1                                            0   \n",
       "2                                            0   \n",
       "3                                            0   \n",
       "4                                            0   \n",
       "\n",
       "   Total Unemployment in State/Area_997,360     \\\n",
       "0                                            0   \n",
       "1                                            0   \n",
       "2                                            0   \n",
       "3                                            0   \n",
       "4                                            0   \n",
       "\n",
       "   Total Unemployment in State/Area_997,587     \\\n",
       "0                                            0   \n",
       "1                                            0   \n",
       "2                                            0   \n",
       "3                                            0   \n",
       "4                                            0   \n",
       "\n",
       "   Total Unemployment in State/Area_997,603     \\\n",
       "0                                            0   \n",
       "1                                            0   \n",
       "2                                            0   \n",
       "3                                            0   \n",
       "4                                            0   \n",
       "\n",
       "   Total Unemployment in State/Area_998,504     \\\n",
       "0                                            0   \n",
       "1                                            0   \n",
       "2                                            0   \n",
       "3                                            0   \n",
       "4                                            0   \n",
       "\n",
       "   Total Unemployment in State/Area_998,844     \\\n",
       "0                                            0   \n",
       "1                                            0   \n",
       "2                                            0   \n",
       "3                                            0   \n",
       "4                                            0   \n",
       "\n",
       "   Total Unemployment in State/Area_999,100     \n",
       "0                                            0  \n",
       "1                                            0  \n",
       "2                                            0  \n",
       "3                                            0  \n",
       "4                                            0  \n",
       "\n",
       "[5 rows x 113648 columns]"
      ]
     },
     "execution_count": 10,
     "metadata": {},
     "output_type": "execute_result"
    }
   ],
   "source": [
    "X.head()"
   ]
  },
  {
   "cell_type": "code",
   "execution_count": 11,
   "id": "7d199ca3",
   "metadata": {},
   "outputs": [
    {
     "data": {
      "text/html": [
       "<div>\n",
       "<style scoped>\n",
       "    .dataframe tbody tr th:only-of-type {\n",
       "        vertical-align: middle;\n",
       "    }\n",
       "\n",
       "    .dataframe tbody tr th {\n",
       "        vertical-align: top;\n",
       "    }\n",
       "\n",
       "    .dataframe thead th {\n",
       "        text-align: right;\n",
       "    }\n",
       "</style>\n",
       "<table border=\"1\" class=\"dataframe\">\n",
       "  <thead>\n",
       "    <tr style=\"text-align: right;\">\n",
       "      <th></th>\n",
       "      <th>Percent (%) of Labor Force Unemployed in State/Area</th>\n",
       "    </tr>\n",
       "  </thead>\n",
       "  <tbody>\n",
       "    <tr>\n",
       "      <th>0</th>\n",
       "      <td>6.6</td>\n",
       "    </tr>\n",
       "    <tr>\n",
       "      <th>1</th>\n",
       "      <td>7.1</td>\n",
       "    </tr>\n",
       "    <tr>\n",
       "      <th>2</th>\n",
       "      <td>10.2</td>\n",
       "    </tr>\n",
       "    <tr>\n",
       "      <th>3</th>\n",
       "      <td>7.3</td>\n",
       "    </tr>\n",
       "    <tr>\n",
       "      <th>4</th>\n",
       "      <td>9.2</td>\n",
       "    </tr>\n",
       "  </tbody>\n",
       "</table>\n",
       "</div>"
      ],
      "text/plain": [
       "   Percent (%) of Labor Force Unemployed in State/Area\n",
       "0                                                6.6  \n",
       "1                                                7.1  \n",
       "2                                               10.2  \n",
       "3                                                7.3  \n",
       "4                                                9.2  "
      ]
     },
     "execution_count": 11,
     "metadata": {},
     "output_type": "execute_result"
    }
   ],
   "source": [
    "y.head()"
   ]
  },
  {
   "cell_type": "markdown",
   "id": "ee53c13d",
   "metadata": {},
   "source": [
    "# Splitting the dataset into the Training set and Test set"
   ]
  },
  {
   "cell_type": "code",
   "execution_count": null,
   "id": "04219fca",
   "metadata": {},
   "outputs": [],
   "source": [
    "from sklearn.model_selection import train_test_split\n",
    "X_train,X_test,y_train,y_test=train_test_split(X,y,\n",
    "                                              test_size=.1,\n",
    "                                              random_state=20)"
   ]
  },
  {
   "cell_type": "markdown",
   "id": "474d5f22",
   "metadata": {},
   "source": [
    "# Training the Logistic Regression model on the Training set"
   ]
  },
  {
   "cell_type": "code",
   "execution_count": null,
   "id": "974dfc02",
   "metadata": {},
   "outputs": [],
   "source": [
    "from sklearn.linear_model import LogisticRegression\n",
    "classifier=LogisticRegression()\n",
    "classifier.fit(X_train.values,y_train)"
   ]
  },
  {
   "cell_type": "code",
   "execution_count": null,
   "id": "75e57124",
   "metadata": {},
   "outputs": [],
   "source": [
    "X_test, X_val, y_test, y_val=train_test_split(X_test,y_test,\n",
    "                                              test_size=.15, random_state=30)"
   ]
  },
  {
   "cell_type": "markdown",
   "id": "1b24cee3",
   "metadata": {},
   "source": [
    "# Predicting a new result-validation set\n",
    "\n",
    "-fibs code 6\n",
    "-state/area california\n",
    "-year 1975\n",
    "-month 2\n",
    "-total civial non-institutional 1,621,000\n",
    "-total civial 1,456\n",
    "-percent 57%\n",
    "-total employment 148,820\n",
    "-percent of labor force 56.8\n",
    "-total unemployement 64,649\n",
    "-percentage 6.6%"
   ]
  },
  {
   "cell_type": "code",
   "execution_count": 2,
   "id": "ef61e76a",
   "metadata": {},
   "outputs": [
    {
     "ename": "NameError",
     "evalue": "name 'X_test' is not defined",
     "output_type": "error",
     "traceback": [
      "\u001b[0;31m---------------------------------------------------------------------------\u001b[0m",
      "\u001b[0;31mNameError\u001b[0m                                 Traceback (most recent call last)",
      "Input \u001b[0;32mIn [2]\u001b[0m, in \u001b[0;36m<cell line: 1>\u001b[0;34m()\u001b[0m\n\u001b[0;32m----> 1\u001b[0m \u001b[43mX_test\u001b[49m\u001b[38;5;241m.\u001b[39mcolumns\n",
      "\u001b[0;31mNameError\u001b[0m: name 'X_test' is not defined"
     ]
    }
   ],
   "source": [
    "X_test.columns"
   ]
  },
  {
   "cell_type": "code",
   "execution_count": 1,
   "id": "ed98e48b",
   "metadata": {},
   "outputs": [
    {
     "ename": "NameError",
     "evalue": "name 'classifier' is not defined",
     "output_type": "error",
     "traceback": [
      "\u001b[0;31m---------------------------------------------------------------------------\u001b[0m",
      "\u001b[0;31mNameError\u001b[0m                                 Traceback (most recent call last)",
      "Input \u001b[0;32mIn [1]\u001b[0m, in \u001b[0;36m<cell line: 1>\u001b[0;34m()\u001b[0m\n\u001b[0;32m----> 1\u001b[0m \u001b[38;5;28mprint\u001b[39m(\u001b[43mclassifier\u001b[49m\u001b[38;5;241m.\u001b[39mpredict([[\u001b[38;5;241m6\u001b[39m,\u001b[38;5;241m1\u001b[39m,\u001b[38;5;241m1975\u001b[39m,\u001b[38;5;241m162100\u001b[39m,\u001b[38;5;241m1456\u001b[39m,\u001b[38;5;241m57\u001b[39m,\u001b[38;5;241m148820\u001b[39m,\u001b[38;5;241m56.8\u001b[39m,\u001b[38;5;241m64649\u001b[39m,\u001b[38;5;241m6.6\u001b[39m]]))\n",
      "\u001b[0;31mNameError\u001b[0m: name 'classifier' is not defined"
     ]
    }
   ],
   "source": [
    "print(classifier.predict([[6,1,1975,162100,1456,57,148820,56.8,64649,6.6]]))"
   ]
  },
  {
   "cell_type": "markdown",
   "id": "3cc4d17a",
   "metadata": {},
   "source": [
    "# Making the confusion matrix"
   ]
  },
  {
   "cell_type": "code",
   "execution_count": null,
   "id": "8e490296",
   "metadata": {},
   "outputs": [],
   "source": [
    "y_pred=classifier.predict(X_test)"
   ]
  },
  {
   "cell_type": "code",
   "execution_count": null,
   "id": "490f5542",
   "metadata": {},
   "outputs": [],
   "source": [
    "from sklearn.metrics import confusion_matrix,ConfusionMatrixDisplay\n",
    "cm=confusion_matrix(y_test,y_pred)\n",
    "print(cm)"
   ]
  },
  {
   "cell_type": "code",
   "execution_count": null,
   "id": "f236f922",
   "metadata": {},
   "outputs": [],
   "source": [
    "disp=ConfusionMatrixDisplay(confusion_matrix=cm,\n",
    "\n",
    "                        display_labels=classifier.classes_)\n",
    "disp.plot()\n",
    "plt.show()"
   ]
  },
  {
   "cell_type": "markdown",
   "id": "e3797dd8",
   "metadata": {},
   "source": [
    "# Classification Report "
   ]
  },
  {
   "cell_type": "code",
   "execution_count": null,
   "id": "1dc4b8f2",
   "metadata": {},
   "outputs": [],
   "source": [
    "from sklearn.metrics import classification_report\n",
    "print(classification_report(y_test,y_pred))"
   ]
  },
  {
   "cell_type": "markdown",
   "id": "7a07809a",
   "metadata": {},
   "source": [
    "# Summary of Results"
   ]
  },
  {
   "cell_type": "code",
   "execution_count": null,
   "id": "5be3c7e4",
   "metadata": {},
   "outputs": [],
   "source": []
  }
 ],
 "metadata": {
  "kernelspec": {
   "display_name": "Python 3 (ipykernel)",
   "language": "python",
   "name": "python3"
  },
  "language_info": {
   "codemirror_mode": {
    "name": "ipython",
    "version": 3
   },
   "file_extension": ".py",
   "mimetype": "text/x-python",
   "name": "python",
   "nbconvert_exporter": "python",
   "pygments_lexer": "ipython3",
   "version": "3.9.12"
  }
 },
 "nbformat": 4,
 "nbformat_minor": 5
}
